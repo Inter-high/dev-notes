{
 "cells": [
  {
   "cell_type": "code",
   "execution_count": 1,
   "metadata": {},
   "outputs": [],
   "source": [
    "import numpy as np\n",
    "import torch.nn.functional as F\n",
    "import torchvision.transforms as transforms"
   ]
  },
  {
   "cell_type": "markdown",
   "metadata": {},
   "source": [
    "# 1. Train Same Tensor"
   ]
  },
  {
   "cell_type": "markdown",
   "metadata": {},
   "source": [
    "### 1. Load image"
   ]
  },
  {
   "cell_type": "code",
   "execution_count": 2,
   "metadata": {},
   "outputs": [
    {
     "name": "stdout",
     "output_type": "stream",
     "text": [
      "[[0 0]\n",
      " [0 0]]\n",
      "(2, 2)\n"
     ]
    }
   ],
   "source": [
    "input_img = np.zeros((2, 2), dtype=np.uint8)\n",
    "print(input_img)\n",
    "print(input_img.shape)"
   ]
  },
  {
   "cell_type": "code",
   "execution_count": 3,
   "metadata": {},
   "outputs": [
    {
     "name": "stdout",
     "output_type": "stream",
     "text": [
      "[[255 255]\n",
      " [255 255]]\n",
      "(2, 2)\n"
     ]
    }
   ],
   "source": [
    "target_img = np.full((2, 2), 255, dtype=np.uint8)\n",
    "print(target_img)\n",
    "print(target_img.shape)"
   ]
  },
  {
   "cell_type": "markdown",
   "metadata": {},
   "source": [
    "### 1.2 Transform to tensor"
   ]
  },
  {
   "cell_type": "code",
   "execution_count": 4,
   "metadata": {},
   "outputs": [],
   "source": [
    "transform = transforms.Compose([\n",
    "    transforms.ToTensor(),\n",
    "])"
   ]
  },
  {
   "cell_type": "code",
   "execution_count": 5,
   "metadata": {},
   "outputs": [
    {
     "name": "stdout",
     "output_type": "stream",
     "text": [
      "tensor([[[0., 0.],\n",
      "         [0., 0.]]])\n",
      "torch.Size([1, 2, 2])\n"
     ]
    }
   ],
   "source": [
    "input_tensor = transform(input_img)\n",
    "print(input_tensor)\n",
    "print(input_tensor.shape)"
   ]
  },
  {
   "cell_type": "code",
   "execution_count": 6,
   "metadata": {},
   "outputs": [
    {
     "name": "stdout",
     "output_type": "stream",
     "text": [
      "tensor([[[1., 1.],\n",
      "         [1., 1.]]])\n",
      "torch.Size([1, 2, 2])\n"
     ]
    }
   ],
   "source": [
    "target_tensor = transform(target_img)\n",
    "print(target_tensor)\n",
    "print(target_tensor.shape)"
   ]
  },
  {
   "cell_type": "markdown",
   "metadata": {},
   "source": [
    "### 1.3 Calculate loss"
   ]
  },
  {
   "cell_type": "markdown",
   "metadata": {},
   "source": [
    "<img src=\"./notebook_images/mse_loss.jpg\">"
   ]
  },
  {
   "cell_type": "code",
   "execution_count": 7,
   "metadata": {},
   "outputs": [
    {
     "name": "stdout",
     "output_type": "stream",
     "text": [
      "tensor(1.)\n"
     ]
    }
   ],
   "source": [
    "mse_loss = F.mse_loss(input_tensor, target_tensor)\n",
    "print(mse_loss)"
   ]
  },
  {
   "cell_type": "markdown",
   "metadata": {},
   "source": [
    "### 1.4 Calculate gradient"
   ]
  },
  {
   "cell_type": "markdown",
   "metadata": {},
   "source": [
    "<img src=\"./notebook_images/mse_loss_gradient.jpg\">"
   ]
  },
  {
   "cell_type": "code",
   "execution_count": 8,
   "metadata": {},
   "outputs": [
    {
     "name": "stdout",
     "output_type": "stream",
     "text": [
      "tensor([[[-2., -2.],\n",
      "         [-2., -2.]]])\n"
     ]
    }
   ],
   "source": [
    "gradient = 1 * 2 * (input_tensor - target_tensor)\n",
    "print(gradient)"
   ]
  },
  {
   "cell_type": "markdown",
   "metadata": {},
   "source": [
    "### 1.5 Update input_tensor (SGD)"
   ]
  },
  {
   "cell_type": "markdown",
   "metadata": {},
   "source": [
    "<img src=\"./notebook_images/mse_loss_update.jpg\">"
   ]
  },
  {
   "cell_type": "code",
   "execution_count": 9,
   "metadata": {},
   "outputs": [
    {
     "name": "stdout",
     "output_type": "stream",
     "text": [
      "tensor([[[0.0020, 0.0020],\n",
      "         [0.0020, 0.0020]]])\n"
     ]
    }
   ],
   "source": [
    "new_input_tensor = input_tensor - (0.001 * gradient)\n",
    "print(new_input_tensor)"
   ]
  },
  {
   "cell_type": "code",
   "execution_count": 10,
   "metadata": {},
   "outputs": [
    {
     "name": "stdout",
     "output_type": "stream",
     "text": [
      "1/10: loss: 1.0000\n",
      "2/10: loss: 0.3600\n",
      "3/10: loss: 0.1296\n",
      "4/10: loss: 0.0467\n",
      "5/10: loss: 0.0168\n",
      "6/10: loss: 0.0060\n",
      "7/10: loss: 0.0022\n",
      "8/10: loss: 0.0008\n",
      "9/10: loss: 0.0003\n",
      "10/10: loss: 0.0001\n",
      "input_tensor: \n",
      "tensor([[[0., 0.],\n",
      "         [0., 0.]]])\n",
      "\n",
      "target_tensor: \n",
      "tensor([[[1., 1.],\n",
      "         [1., 1.]]])\n",
      "\n",
      "Updated input_tensor: \n",
      "tensor([[[0.9940, 0.9940],\n",
      "         [0.9940, 0.9940]]])\n",
      "\n"
     ]
    }
   ],
   "source": [
    "epochs = 10\n",
    "before_input_tensor = input_tensor.clone()\n",
    "for epoch in range(epochs):\n",
    "    mse_loss = F.mse_loss(input_tensor, target_tensor)\n",
    "\n",
    "    gradient = 1 * 2 * (input_tensor - target_tensor)\n",
    "    input_tensor = input_tensor - (0.2 * gradient)\n",
    "    \n",
    "    print(f\"{epoch+1}/{epochs}: loss: {mse_loss:.4f}\")\n",
    "\n",
    "print(f\"input_tensor: \\n{before_input_tensor}\\n\")\n",
    "print(f\"target_tensor: \\n{target_tensor}\\n\")\n",
    "print(f\"Updated input_tensor: \\n{input_tensor}\\n\")"
   ]
  },
  {
   "cell_type": "markdown",
   "metadata": {},
   "source": [
    "# 2. Train Diff Tensor"
   ]
  },
  {
   "cell_type": "markdown",
   "metadata": {},
   "source": [
    "### 2.1 Load image"
   ]
  },
  {
   "cell_type": "code",
   "execution_count": 11,
   "metadata": {},
   "outputs": [
    {
     "name": "stdout",
     "output_type": "stream",
     "text": [
      "[[0 0]\n",
      " [0 0]]\n",
      "(2, 2)\n"
     ]
    }
   ],
   "source": [
    "input_img = np.zeros((2, 2), dtype=np.uint8)\n",
    "print(input_img)\n",
    "print(input_img.shape)"
   ]
  },
  {
   "cell_type": "code",
   "execution_count": 12,
   "metadata": {},
   "outputs": [
    {
     "name": "stdout",
     "output_type": "stream",
     "text": [
      "[[ 50  50]\n",
      " [ 50 200]]\n",
      "(2, 2)\n"
     ]
    }
   ],
   "source": [
    "target_img = np.array([[50, 50], [50, 200]], dtype=np.uint8)\n",
    "print(target_img)\n",
    "print(target_img.shape)"
   ]
  },
  {
   "cell_type": "markdown",
   "metadata": {},
   "source": [
    "### 2.2 Transform to tensor"
   ]
  },
  {
   "cell_type": "code",
   "execution_count": 13,
   "metadata": {},
   "outputs": [],
   "source": [
    "transform = transforms.Compose([\n",
    "    transforms.ToTensor(),\n",
    "])"
   ]
  },
  {
   "cell_type": "code",
   "execution_count": 14,
   "metadata": {},
   "outputs": [
    {
     "name": "stdout",
     "output_type": "stream",
     "text": [
      "tensor([[[0., 0.],\n",
      "         [0., 0.]]])\n",
      "torch.Size([1, 2, 2])\n"
     ]
    }
   ],
   "source": [
    "input_tensor = transform(input_img)\n",
    "print(input_tensor)\n",
    "print(input_tensor.shape)"
   ]
  },
  {
   "cell_type": "code",
   "execution_count": 15,
   "metadata": {},
   "outputs": [
    {
     "name": "stdout",
     "output_type": "stream",
     "text": [
      "tensor([[[0.1961, 0.1961],\n",
      "         [0.1961, 0.7843]]])\n",
      "torch.Size([1, 2, 2])\n"
     ]
    }
   ],
   "source": [
    "target_tensor = transform(target_img)\n",
    "print(target_tensor)\n",
    "print(target_tensor.shape)"
   ]
  },
  {
   "cell_type": "markdown",
   "metadata": {},
   "source": [
    "### 2.3 Calculate loss"
   ]
  },
  {
   "cell_type": "markdown",
   "metadata": {},
   "source": [
    "<img src=\"./notebook_images/mse_loss.jpg\">"
   ]
  },
  {
   "cell_type": "code",
   "execution_count": 16,
   "metadata": {},
   "outputs": [
    {
     "name": "stdout",
     "output_type": "stream",
     "text": [
      "tensor(0.1826)\n"
     ]
    }
   ],
   "source": [
    "mse_loss = F.mse_loss(input_tensor, target_tensor)\n",
    "print(mse_loss)"
   ]
  },
  {
   "cell_type": "markdown",
   "metadata": {},
   "source": [
    "### 2.4 Calculate gradient"
   ]
  },
  {
   "cell_type": "markdown",
   "metadata": {},
   "source": [
    "<img src=\"./notebook_images/mse_loss_gradient.jpg\">"
   ]
  },
  {
   "cell_type": "code",
   "execution_count": 17,
   "metadata": {},
   "outputs": [
    {
     "name": "stdout",
     "output_type": "stream",
     "text": [
      "tensor([[[-0.3922, -0.3922],\n",
      "         [-0.3922, -1.5686]]])\n"
     ]
    }
   ],
   "source": [
    "gradient = 1 * 2 * (input_tensor - target_tensor)\n",
    "print(gradient)"
   ]
  },
  {
   "cell_type": "markdown",
   "metadata": {},
   "source": [
    "### 2.5 Update input_tensor (SGD)"
   ]
  },
  {
   "cell_type": "markdown",
   "metadata": {},
   "source": [
    "<img src=\"./notebook_images/mse_loss_update.jpg\">"
   ]
  },
  {
   "cell_type": "code",
   "execution_count": 18,
   "metadata": {},
   "outputs": [
    {
     "name": "stdout",
     "output_type": "stream",
     "text": [
      "tensor([[[0.0004, 0.0004],\n",
      "         [0.0004, 0.0016]]])\n"
     ]
    }
   ],
   "source": [
    "new_input_tensor = input_tensor - (0.001 * gradient)\n",
    "print(new_input_tensor)"
   ]
  },
  {
   "cell_type": "code",
   "execution_count": 19,
   "metadata": {},
   "outputs": [
    {
     "name": "stdout",
     "output_type": "stream",
     "text": [
      "1/10: loss: 0.1826\n",
      "2/10: loss: 0.0657\n",
      "3/10: loss: 0.0237\n",
      "4/10: loss: 0.0085\n",
      "5/10: loss: 0.0031\n",
      "6/10: loss: 0.0011\n",
      "7/10: loss: 0.0004\n",
      "8/10: loss: 0.0001\n",
      "9/10: loss: 0.0001\n",
      "10/10: loss: 0.0000\n",
      "input_tensor: \n",
      "tensor([[[0., 0.],\n",
      "         [0., 0.]]])\n",
      "\n",
      "target_tensor: \n",
      "tensor([[[0.1961, 0.1961],\n",
      "         [0.1961, 0.7843]]])\n",
      "\n",
      "Updated input_tensor: \n",
      "tensor([[[0.1949, 0.1949],\n",
      "         [0.1949, 0.7796]]])\n",
      "\n"
     ]
    }
   ],
   "source": [
    "epochs = 10\n",
    "before_input_tensor = input_tensor.clone()\n",
    "for epoch in range(epochs):\n",
    "    mse_loss = F.mse_loss(input_tensor, target_tensor)\n",
    "\n",
    "    gradient = 1 * 2 * (input_tensor - target_tensor)\n",
    "    input_tensor = input_tensor - (0.2 * gradient)\n",
    "    \n",
    "    print(f\"{epoch+1}/{epochs}: loss: {mse_loss:.4f}\")\n",
    "\n",
    "print(f\"input_tensor: \\n{before_input_tensor}\\n\")\n",
    "print(f\"target_tensor: \\n{target_tensor}\\n\")\n",
    "print(f\"Updated input_tensor: \\n{input_tensor}\\n\")"
   ]
  },
  {
   "cell_type": "code",
   "execution_count": null,
   "metadata": {},
   "outputs": [],
   "source": []
  }
 ],
 "metadata": {
  "kernelspec": {
   "display_name": "Python 3",
   "language": "python",
   "name": "python3"
  },
  "language_info": {
   "codemirror_mode": {
    "name": "ipython",
    "version": 3
   },
   "file_extension": ".py",
   "mimetype": "text/x-python",
   "name": "python",
   "nbconvert_exporter": "python",
   "pygments_lexer": "ipython3",
   "version": "3.10.12"
  }
 },
 "nbformat": 4,
 "nbformat_minor": 2
}
